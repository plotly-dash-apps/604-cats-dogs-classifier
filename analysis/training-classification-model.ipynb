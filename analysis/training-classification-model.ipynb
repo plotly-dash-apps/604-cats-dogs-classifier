{
 "cells": [
  {
   "cell_type": "markdown",
   "id": "fb31501c-ce3f-4105-b867-ffbebfc67abb",
   "metadata": {},
   "source": [
    "# Training Cats + Dogs Classifier"
   ]
  },
  {
   "cell_type": "markdown",
   "id": "70b4d8ff-94c2-4831-8300-44dbc4749b57",
   "metadata": {},
   "source": [
    "Source: https://www.kaggle.com/code/uysimty/keras-cnn-dog-or-cat-classification/notebook"
   ]
  },
  {
   "cell_type": "code",
   "execution_count": null,
   "id": "014c1104-78dd-49fb-b27f-547dfbed1cd8",
   "metadata": {},
   "outputs": [],
   "source": [
    "# Get the kaggle API\n",
    "! pip install kaggle"
   ]
  },
  {
   "cell_type": "markdown",
   "id": "88737e23-2043-4217-af47-00a78466aec7",
   "metadata": {},
   "source": [
    "To use the Kaggle API, sign up for a Kaggle account at https://www.kaggle.com. Then go to the 'Account' tab of your user profile (https://www.kaggle.com/<username>/account) and select 'Create API Token'. This will trigger the download of kaggle.json, a file containing your API credentials. Place this file in the location ~/.kaggle/kaggle.json "
   ]
  },
  {
   "cell_type": "code",
   "execution_count": null,
   "id": "0753a82a-95b8-474f-8851-f304ddfddf03",
   "metadata": {},
   "outputs": [],
   "source": [
    "# Get the dataset -- https://www.kaggle.com/general/6604\n",
    "! kaggle competitions download -c dogs-vs-cats"
   ]
  },
  {
   "cell_type": "code",
   "execution_count": null,
   "id": "bf5c01b5-f5d9-4ecf-a97f-6d66ecbc9524",
   "metadata": {
    "tags": []
   },
   "outputs": [],
   "source": [
    "# Unzip the file\n",
    "# ! unzip input/dogs-vs-cats.zip\n",
    "! unzip input/train/train.zip"
   ]
  },
  {
   "cell_type": "code",
   "execution_count": null,
   "id": "84c96e9e-68a2-43e8-bb9b-2c3d1905dcb1",
   "metadata": {},
   "outputs": [],
   "source": [
    "# install and import libraries\n",
    "import numpy as np\n",
    "import pandas as pd \n",
    "from keras.preprocessing.image import ImageDataGenerator, load_img\n",
    "from keras.utils import to_categorical\n",
    "from sklearn.model_selection import train_test_split\n",
    "import matplotlib.pyplot as plt"
   ]
  },
  {
   "cell_type": "code",
   "execution_count": null,
   "id": "3777b6c4-a971-479d-9d16-46a0f9e0235a",
   "metadata": {
    "tags": []
   },
   "outputs": [],
   "source": [
    "# Import Library\n",
    "\n",
    "import random\n",
    "import os\n",
    "print(os.listdir(\"input/\"))"
   ]
  },
  {
   "cell_type": "code",
   "execution_count": null,
   "id": "7301f3a5-089b-449e-8011-4fbc6f62b3b7",
   "metadata": {},
   "outputs": [],
   "source": [
    "# Define Constants\n",
    "FAST_RUN = False\n",
    "IMAGE_WIDTH=128\n",
    "IMAGE_HEIGHT=128\n",
    "IMAGE_SIZE=(IMAGE_WIDTH, IMAGE_HEIGHT)\n",
    "IMAGE_CHANNELS=3"
   ]
  },
  {
   "cell_type": "code",
   "execution_count": null,
   "id": "a0b95310-7dc7-412c-96b7-3697900389a1",
   "metadata": {},
   "outputs": [],
   "source": [
    "# Prepare Traning Data\n",
    "filenames = os.listdir(\"input/train/train\")\n",
    "filenames"
   ]
  },
  {
   "cell_type": "code",
   "execution_count": null,
   "id": "0604ba33-d060-407e-b81b-4c744480645d",
   "metadata": {},
   "outputs": [],
   "source": [
    "# make dataframe\n",
    "categories = []\n",
    "for filename in filenames:\n",
    "    category = filename.split('.')[0]\n",
    "    if category == 'dog':\n",
    "        categories.append(1)\n",
    "    else:\n",
    "        categories.append(0)\n",
    "\n",
    "df = pd.DataFrame({\n",
    "    'filename': filenames,\n",
    "    'category': categories\n",
    "})"
   ]
  },
  {
   "cell_type": "code",
   "execution_count": null,
   "id": "06627675-3740-468b-8192-acf753755783",
   "metadata": {},
   "outputs": [],
   "source": [
    "# view\n",
    "df.head()"
   ]
  },
  {
   "cell_type": "code",
   "execution_count": null,
   "id": "45de3680-2682-4e8d-8255-b3bcf9156599",
   "metadata": {},
   "outputs": [],
   "source": [
    "# See Total In count\n",
    "df['category'].value_counts().plot.bar()"
   ]
  },
  {
   "cell_type": "code",
   "execution_count": null,
   "id": "30542df1-7969-4d48-a277-bed9678b0590",
   "metadata": {},
   "outputs": [],
   "source": [
    "# See sample image\n",
    "sample = random.choice(filenames)\n",
    "image = load_img(\"input/train/train/\"+sample)\n",
    "plt.imshow(image)"
   ]
  },
  {
   "cell_type": "code",
   "execution_count": null,
   "id": "a462d182-a301-4401-82d5-795a92c8b840",
   "metadata": {},
   "outputs": [],
   "source": [
    "# Build model"
   ]
  },
  {
   "cell_type": "markdown",
   "id": "8bc44c5d-f5a7-47e0-a086-2eaa1c4a441b",
   "metadata": {},
   "source": [
    "<img src='notebook-images/model_shape.jpeg' width=\"800\" height=\"400\">"
   ]
  },
  {
   "cell_type": "markdown",
   "id": "895dd44b-e040-4018-ad89-c198d5b2ecf0",
   "metadata": {},
   "source": [
    "- Input Layer: It represent input image data. It will reshape image into single diminsion array. Example your image is 64x64 = 4096, it will convert to (4096,1) array.\n",
    "- Conv Layer: This layer will extract features from image.\n",
    "- Pooling Layer: This layerreduce the spatial volume of input image after convolution.\n",
    "- Fully Connected Layer: It connect the network from a layer to another layer\n",
    "- Output Layer: It is the predicted values layer."
   ]
  },
  {
   "cell_type": "code",
   "execution_count": null,
   "id": "90427ccd-b6bd-4c82-9cb1-13d51f286beb",
   "metadata": {},
   "outputs": [],
   "source": [
    "# imports\n",
    "from keras.models import Sequential\n",
    "from keras.layers import Conv2D, MaxPooling2D, Dropout, Flatten, Dense, Activation, BatchNormalization"
   ]
  },
  {
   "cell_type": "code",
   "execution_count": null,
   "id": "28515eed-e203-4800-8835-826491726a39",
   "metadata": {},
   "outputs": [],
   "source": [
    "model = Sequential()\n",
    "\n",
    "model.add(Conv2D(32, (3, 3), activation='relu', input_shape=(IMAGE_WIDTH, IMAGE_HEIGHT, IMAGE_CHANNELS)))\n",
    "model.add(BatchNormalization())\n",
    "model.add(MaxPooling2D(pool_size=(2, 2)))\n",
    "model.add(Dropout(0.25))\n",
    "\n",
    "model.add(Conv2D(64, (3, 3), activation='relu'))\n",
    "model.add(BatchNormalization())\n",
    "model.add(MaxPooling2D(pool_size=(2, 2)))\n",
    "model.add(Dropout(0.25))\n",
    "\n",
    "model.add(Conv2D(128, (3, 3), activation='relu'))\n",
    "model.add(BatchNormalization())\n",
    "model.add(MaxPooling2D(pool_size=(2, 2)))\n",
    "model.add(Dropout(0.25))\n",
    "\n",
    "model.add(Flatten())\n",
    "model.add(Dense(512, activation='relu'))\n",
    "model.add(BatchNormalization())\n",
    "model.add(Dropout(0.5))\n",
    "model.add(Dense(2, activation='softmax')) # 2 because we have cat and dog classes"
   ]
  },
  {
   "cell_type": "code",
   "execution_count": null,
   "id": "9b92d5d9-be09-4a90-b175-672249e3febb",
   "metadata": {},
   "outputs": [],
   "source": [
    "model.compile(loss='categorical_crossentropy', optimizer='rmsprop', metrics=['accuracy'])\n",
    "\n",
    "model.summary()"
   ]
  },
  {
   "cell_type": "markdown",
   "id": "aad513cf-f10a-4b70-8b19-d4140907a38a",
   "metadata": {},
   "source": [
    "## Callbacks"
   ]
  },
  {
   "cell_type": "code",
   "execution_count": null,
   "id": "f2d2098b-2425-41fc-9e99-ad8cd03abbe7",
   "metadata": {},
   "outputs": [],
   "source": [
    "# Callbacks\n",
    "from keras.callbacks import EarlyStopping, ReduceLROnPlateau"
   ]
  },
  {
   "cell_type": "code",
   "execution_count": null,
   "id": "2a345170-3255-43a6-9ced-a703a7e5cdb6",
   "metadata": {},
   "outputs": [],
   "source": [
    "# Early Stopping\n",
    "# To prevent over fitting we will stop the learning after 10 epochs and val_loss value not decreased\n",
    "earlystop = EarlyStopping(patience=10)"
   ]
  },
  {
   "cell_type": "code",
   "execution_count": null,
   "id": "fea7076f-fbcc-4cf1-b0dd-c591afd60f8f",
   "metadata": {},
   "outputs": [],
   "source": [
    "# Learning Rate Reduction\n",
    "# We will reduce the learning rate when then accuracy not increase for 2 steps\n",
    "learning_rate_reduction = ReduceLROnPlateau(monitor='val_acc', \n",
    "                                            patience=2, \n",
    "                                            verbose=1, \n",
    "                                            factor=0.5, \n",
    "                                            min_lr=0.00001)"
   ]
  },
  {
   "cell_type": "code",
   "execution_count": null,
   "id": "e26f0769-afa6-4a00-828f-a68894c4fec2",
   "metadata": {},
   "outputs": [],
   "source": [
    "callbacks = [earlystop, learning_rate_reduction]"
   ]
  },
  {
   "cell_type": "markdown",
   "id": "6e27bd74-c78d-4ef8-bf6a-ec1c0aceac94",
   "metadata": {},
   "source": [
    "## Prepare Data"
   ]
  },
  {
   "cell_type": "markdown",
   "id": "8a4ca23a-417c-4057-8e3e-c378be66f1d9",
   "metadata": {},
   "source": [
    "Because we will use image genaretor with class_mode=\"categorical\". We need to convert column category into string. Then imagenerator will convert it one-hot encoding which is good for our classification.\n",
    "\n",
    "So we will convert 1 to dog and 0 to cat"
   ]
  },
  {
   "cell_type": "code",
   "execution_count": null,
   "id": "240194b6-0040-4c04-acbe-c633f3c9140d",
   "metadata": {},
   "outputs": [],
   "source": [
    "df[\"category\"] = df[\"category\"].replace({0: 'cat', 1: 'dog'}) "
   ]
  },
  {
   "cell_type": "code",
   "execution_count": null,
   "id": "28093dd4-648f-4958-9ef6-0eac3d959071",
   "metadata": {},
   "outputs": [],
   "source": [
    "train_df, validate_df = train_test_split(df, test_size=0.20, random_state=42)\n",
    "train_df = train_df.reset_index(drop=True)\n",
    "validate_df = validate_df.reset_index(drop=True)"
   ]
  },
  {
   "cell_type": "code",
   "execution_count": null,
   "id": "c79fd26f-ca75-471f-8a91-342a93f4dc34",
   "metadata": {},
   "outputs": [],
   "source": [
    "train_df['category'].value_counts().plot.bar()"
   ]
  },
  {
   "cell_type": "code",
   "execution_count": null,
   "id": "67cbf012-87b0-4e9a-9ef6-f987a2d83f29",
   "metadata": {},
   "outputs": [],
   "source": [
    "validate_df['category'].value_counts().plot.bar()"
   ]
  },
  {
   "cell_type": "code",
   "execution_count": null,
   "id": "0cdb417a-4345-4bb0-bf05-3efa18dce38e",
   "metadata": {},
   "outputs": [],
   "source": [
    "total_train = train_df.shape[0]\n",
    "total_validate = validate_df.shape[0]\n",
    "batch_size=15"
   ]
  },
  {
   "cell_type": "markdown",
   "id": "2f1b92f7-ee5b-42e3-9eef-e59a3cc5339d",
   "metadata": {},
   "source": [
    "# Training Generator"
   ]
  },
  {
   "cell_type": "code",
   "execution_count": null,
   "id": "49662eec-6596-4bd9-b92d-0cfaf5514a4a",
   "metadata": {},
   "outputs": [],
   "source": [
    "train_datagen = ImageDataGenerator(\n",
    "    rotation_range=15,\n",
    "    rescale=1./255,\n",
    "    shear_range=0.1,\n",
    "    zoom_range=0.2,\n",
    "    horizontal_flip=True,\n",
    "    width_shift_range=0.1,\n",
    "    height_shift_range=0.1\n",
    ")"
   ]
  },
  {
   "cell_type": "code",
   "execution_count": null,
   "id": "2fb40faa-2df4-47c0-b408-0bbc72c8e24d",
   "metadata": {},
   "outputs": [],
   "source": [
    "train_generator = train_datagen.flow_from_dataframe(\n",
    "    train_df, \n",
    "    \"input/train/train/\", \n",
    "    x_col='filename',\n",
    "    y_col='category',\n",
    "    target_size=IMAGE_SIZE,\n",
    "    class_mode='categorical',\n",
    "    batch_size=batch_size\n",
    ")"
   ]
  },
  {
   "cell_type": "markdown",
   "id": "961da4ac-b26e-4179-a3e6-6abbf5b50d50",
   "metadata": {},
   "source": [
    "## Validation Generator"
   ]
  },
  {
   "cell_type": "code",
   "execution_count": null,
   "id": "b3e75e1d-80a2-488b-a07f-e7b15c0c3333",
   "metadata": {},
   "outputs": [],
   "source": [
    "validation_datagen = ImageDataGenerator(rescale=1./255)\n",
    "validation_generator = validation_datagen.flow_from_dataframe(\n",
    "    validate_df, \n",
    "    \"../input/train/train/\", \n",
    "    x_col='filename',\n",
    "    y_col='category',\n",
    "    target_size=IMAGE_SIZE,\n",
    "    class_mode='categorical',\n",
    "    batch_size=batch_size\n",
    ")"
   ]
  },
  {
   "cell_type": "markdown",
   "id": "3eb51074-ab4a-4e83-93b4-c155d6da0083",
   "metadata": {},
   "source": [
    "## Test the generator"
   ]
  },
  {
   "cell_type": "code",
   "execution_count": null,
   "id": "6071c12f-1f52-4f93-8735-5959b6248eff",
   "metadata": {},
   "outputs": [],
   "source": [
    "example_df = train_df.sample(n=1).reset_index(drop=True)\n",
    "example_generator = train_datagen.flow_from_dataframe(\n",
    "    example_df, \n",
    "    \"../input/train/train/\", \n",
    "    x_col='filename',\n",
    "    y_col='category',\n",
    "    target_size=IMAGE_SIZE,\n",
    "    class_mode='categorical'\n",
    ")"
   ]
  },
  {
   "cell_type": "code",
   "execution_count": null,
   "id": "e2a2902c-99f2-4ac3-af57-71684574b6cf",
   "metadata": {},
   "outputs": [],
   "source": [
    "plt.figure(figsize=(12, 12))\n",
    "for i in range(0, 15):\n",
    "    plt.subplot(5, 3, i+1)\n",
    "    for X_batch, Y_batch in example_generator:\n",
    "        image = X_batch[0]\n",
    "        plt.imshow(image)\n",
    "        break\n",
    "plt.tight_layout()\n",
    "plt.show()"
   ]
  },
  {
   "cell_type": "markdown",
   "id": "4b290afb-55fd-4059-98af-ed949b34de97",
   "metadata": {},
   "source": [
    "# Fit Model"
   ]
  },
  {
   "cell_type": "code",
   "execution_count": null,
   "id": "b05041fb-0a92-4eb9-86db-bbbc7a3a4da3",
   "metadata": {},
   "outputs": [],
   "source": [
    "epochs=3 if FAST_RUN else 50\n",
    "history = model.fit_generator(\n",
    "    train_generator, \n",
    "    epochs=epochs,\n",
    "    validation_data=validation_generator,\n",
    "    validation_steps=total_validate//batch_size,\n",
    "    steps_per_epoch=total_train//batch_size,\n",
    "    callbacks=callbacks\n",
    ")"
   ]
  },
  {
   "cell_type": "code",
   "execution_count": null,
   "id": "19f4085d-7b28-4099-81e5-9499d28dcc2a",
   "metadata": {},
   "outputs": [],
   "source": [
    "# Save model\n",
    "model.save_weights(\"model.h5\")"
   ]
  },
  {
   "cell_type": "code",
   "execution_count": null,
   "id": "edde7d58-110c-4da8-a5d6-6755d319ff5f",
   "metadata": {},
   "outputs": [],
   "source": [
    "# Visualize Training\n",
    "fig, (ax1, ax2) = plt.subplots(2, 1, figsize=(12, 12))\n",
    "ax1.plot(history.history['loss'], color='b', label=\"Training loss\")\n",
    "ax1.plot(history.history['val_loss'], color='r', label=\"validation loss\")\n",
    "ax1.set_xticks(np.arange(1, epochs, 1))\n",
    "ax1.set_yticks(np.arange(0, 1, 0.1))\n",
    "\n",
    "ax2.plot(history.history['acc'], color='b', label=\"Training accuracy\")\n",
    "ax2.plot(history.history['val_acc'], color='r',label=\"Validation accuracy\")\n",
    "ax2.set_xticks(np.arange(1, epochs, 1))\n",
    "\n",
    "legend = plt.legend(loc='best', shadow=True)\n",
    "plt.tight_layout()\n",
    "plt.show()"
   ]
  },
  {
   "cell_type": "markdown",
   "id": "527a7d29-6ad5-4ad4-af57-0ac2ef987c60",
   "metadata": {},
   "source": [
    "# Prepare Testing Data"
   ]
  },
  {
   "cell_type": "code",
   "execution_count": null,
   "id": "547558be-e8bc-4f3f-949f-b83eb7a20c1f",
   "metadata": {},
   "outputs": [],
   "source": [
    "test_filenames = os.listdir(\"../input/test1/test1\")\n",
    "test_df = pd.DataFrame({\n",
    "    'filename': test_filenames\n",
    "})\n",
    "nb_samples = test_df.shape[0]"
   ]
  },
  {
   "cell_type": "code",
   "execution_count": null,
   "id": "ad92be0f-7a97-481c-91a3-b5ab05ffbd30",
   "metadata": {},
   "outputs": [],
   "source": [
    "# Create Testing Generator"
   ]
  },
  {
   "cell_type": "code",
   "execution_count": null,
   "id": "fa9e6ca8-de44-424c-a2a0-2501b3a6dd52",
   "metadata": {},
   "outputs": [],
   "source": [
    "test_gen = ImageDataGenerator(rescale=1./255)\n",
    "test_generator = test_gen.flow_from_dataframe(\n",
    "    test_df, \n",
    "    \"../input/test1/test1/\", \n",
    "    x_col='filename',\n",
    "    y_col=None,\n",
    "    class_mode=None,\n",
    "    target_size=IMAGE_SIZE,\n",
    "    batch_size=batch_size,\n",
    "    shuffle=False\n",
    ")"
   ]
  },
  {
   "cell_type": "markdown",
   "id": "4ee40e9a-716b-4f14-a4f6-bec06e8c8c06",
   "metadata": {},
   "source": [
    "# Predict testing data"
   ]
  },
  {
   "cell_type": "code",
   "execution_count": null,
   "id": "4d6b62b1-4083-4228-a6ff-b9bcf00f4b0e",
   "metadata": {},
   "outputs": [],
   "source": [
    "predict = model.predict_generator(test_generator, steps=np.ceil(nb_samples/batch_size))"
   ]
  },
  {
   "cell_type": "markdown",
   "id": "7b1acbee-78a9-49e8-b02c-60f9959a465d",
   "metadata": {},
   "source": [
    "For categoral classication the prediction will come with probability of each category. So we will pick the category that have the highest probability with numpy average max"
   ]
  },
  {
   "cell_type": "code",
   "execution_count": null,
   "id": "2ac0a4f6-45a6-4b5f-96e5-a87804679279",
   "metadata": {},
   "outputs": [],
   "source": [
    "test_df['category'] = np.argmax(predict, axis=-1)"
   ]
  },
  {
   "cell_type": "markdown",
   "id": "9a2ebc9c-b8dd-4603-8d19-7f3e71d06c49",
   "metadata": {},
   "source": [
    "We will convert the predict category back into our generator classes by using train_generator.class_indices. It is the classes that image generator map while converting data into computer vision"
   ]
  },
  {
   "cell_type": "code",
   "execution_count": null,
   "id": "031a311d-54e6-4b66-8f8f-8e9c88ab5795",
   "metadata": {},
   "outputs": [],
   "source": [
    "label_map = dict((v,k) for k,v in train_generator.class_indices.items())\n",
    "test_df['category'] = test_df['category'].replace(label_map)"
   ]
  },
  {
   "cell_type": "markdown",
   "id": "aeabb006-4742-43dc-95d3-46f28b9bc88b",
   "metadata": {},
   "source": [
    "From our prepare data part. We map data with {1: 'dog', 0: 'cat'}. Now we will map the result back to dog is 1 and cat is 0"
   ]
  },
  {
   "cell_type": "code",
   "execution_count": null,
   "id": "5e8ade47-02f1-49dc-a47a-12ed53bc8689",
   "metadata": {},
   "outputs": [],
   "source": [
    "test_df['category'] = test_df['category'].replace({ 'dog': 1, 'cat': 0 })"
   ]
  },
  {
   "cell_type": "markdown",
   "id": "d35d431d-5ad8-4ab7-b4cf-31ec72f8a2dc",
   "metadata": {},
   "source": [
    "# Visualize results"
   ]
  },
  {
   "cell_type": "code",
   "execution_count": null,
   "id": "7b629181-3ab6-4344-a893-02ca187eb80b",
   "metadata": {},
   "outputs": [],
   "source": [
    "test_df['category'].value_counts().plot.bar()"
   ]
  },
  {
   "cell_type": "code",
   "execution_count": null,
   "id": "5eb33718-d71d-40e4-b809-2bb3967c23a9",
   "metadata": {},
   "outputs": [],
   "source": [
    "# See predicted result with images\n",
    "sample_test = test_df.head(18)\n",
    "sample_test.head()\n",
    "plt.figure(figsize=(12, 24))\n",
    "for index, row in sample_test.iterrows():\n",
    "    filename = row['filename']\n",
    "    category = row['category']\n",
    "    img = load_img(\"../input/test1/test1/\"+filename, target_size=IMAGE_SIZE)\n",
    "    plt.subplot(6, 3, index+1)\n",
    "    plt.imshow(img)\n",
    "    plt.xlabel(filename + '(' + \"{}\".format(category) + ')' )\n",
    "plt.tight_layout()\n",
    "plt.show()"
   ]
  },
  {
   "cell_type": "code",
   "execution_count": null,
   "id": "a7cc5425-66fc-4917-87e6-1b7b7a284b57",
   "metadata": {},
   "outputs": [],
   "source": [
    "# Prepare submission\n",
    "submission_df = test_df.copy()\n",
    "submission_df['id'] = submission_df['filename'].str.split('.').str[0]\n",
    "submission_df['label'] = submission_df['category']\n",
    "submission_df.drop(['filename', 'category'], axis=1, inplace=True)\n",
    "submission_df.to_csv('submission.csv', index=False)"
   ]
  }
 ],
 "metadata": {
  "kernelspec": {
   "display_name": "default:Python",
   "language": "python",
   "name": "conda-env-default-py"
  },
  "language_info": {
   "codemirror_mode": {
    "name": "ipython",
    "version": 3
   },
   "file_extension": ".py",
   "mimetype": "text/x-python",
   "name": "python",
   "nbconvert_exporter": "python",
   "pygments_lexer": "ipython3",
   "version": "3.9.10"
  }
 },
 "nbformat": 4,
 "nbformat_minor": 5
}
